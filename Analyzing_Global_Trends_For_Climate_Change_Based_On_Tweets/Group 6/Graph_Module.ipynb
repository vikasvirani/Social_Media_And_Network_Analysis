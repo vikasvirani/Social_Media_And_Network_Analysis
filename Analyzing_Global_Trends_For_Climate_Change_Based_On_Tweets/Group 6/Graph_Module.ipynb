{
 "cells": [
  {
   "cell_type": "markdown",
   "metadata": {},
   "source": [
    "## Follower Graph Generation\n",
    "#### > This notebook fetches followers and creates dump files for persistence.\n",
    "#### > Creates Nodes out of the dump file data and populates a NetworkX graph.\n",
    "#### > Generates Cypher Query for Neo4J graph generation.\n",
    "#### > Generates GEXF file for importing into GEPHI Graph Vizualization tool\n",
    "\n",
    "\n",
    "### Package import"
   ]
  },
  {
   "cell_type": "code",
   "execution_count": 1,
   "metadata": {},
   "outputs": [],
   "source": [
    "from tweepy import Cursor\n",
    "from tweepy import api\n",
    "import tweepy\n",
    "import time\n",
    "import matplotlib.pyplot as plt\n",
    "from collections import defaultdict\n",
    "from twitterClient import twitterClient"
   ]
  },
  {
   "cell_type": "code",
   "execution_count": null,
   "metadata": {},
   "outputs": [],
   "source": [
    "def dataFetch(screenName, volume):\n",
    "    \"\"\"\n",
    "    Method to laod data from twitter\n",
    "\n",
    "    @param screenName: User's Screen Name\n",
    "    @param volume: Number of tweets to be retrieved\n",
    "    \n",
    "    \"\"\"\n",
    "    \n",
    "\n",
    "    client = twitterClient()\n",
    "\n",
    "    idsG = []\n",
    "    count = 0\n",
    "    for page in Cursor(client.followers_ids, screen_name=screenName).pages():\n",
    "        idsG.extend(page)\n",
    "        time.sleep(60)\n",
    "        count = len(idsG)\n",
    "        if count >= volume:\n",
    "            break\n",
    "    return idsG"
   ]
  },
  {
   "cell_type": "markdown",
   "metadata": {},
   "source": [
    "#### Create dump files and populate dictionary of followers"
   ]
  },
  {
   "cell_type": "code",
   "execution_count": 5,
   "metadata": {},
   "outputs": [],
   "source": [
    "followers = defaultdict(list)\n",
    "interestList = [\"algore\", \"EPA\", \"digg\", \"ClimateGroup\", \"climatecamp\", \"ExtinctionR\", \"KHayhoe\", \"earthinstitute\", \"Strike4Youth\",\"GretaThunberg\", \"UNFCCC\"]\n",
    "\n",
    "x = time.time()\n",
    "for i in interestList:\n",
    "    followers[i] = dataFetch(i,100000)\n",
    "\n",
    "for i in followers.keys():\n",
    "    with open(str(i+\".txt\"),\"w\") as fileHandle:\n",
    "        for j in followers[i]:\n",
    "            fileHandle.write(str(j)+\"\\n\")\n",
    "\n",
    "for i in interestList:\n",
    "    with open(i+\".txt\",\"r\") as fileHandle:\n",
    "        count = 0\n",
    "        for line in fileHandle:\n",
    "            count += 1\n",
    "            followers[i].append(line)\n",
    "            if(count==1000):\n",
    "                break    "
   ]
  },
  {
   "cell_type": "markdown",
   "metadata": {},
   "source": [
    "### Generate Group/Center Nodes"
   ]
  },
  {
   "cell_type": "code",
   "execution_count": 6,
   "metadata": {},
   "outputs": [],
   "source": [
    "cypherQueryGroups = []\n",
    "for i in interestList:\n",
    "    cypherQueryGroups.append(\"G_\"+str(i))"
   ]
  },
  {
   "cell_type": "markdown",
   "metadata": {},
   "source": [
    "### Generate User/Follower Nodes"
   ]
  },
  {
   "cell_type": "code",
   "execution_count": 8,
   "metadata": {
    "scrolled": false
   },
   "outputs": [
    {
     "name": "stdout",
     "output_type": "stream",
     "text": [
      "10697\n",
      "10697\n"
     ]
    }
   ],
   "source": [
    "allUsers = set()\n",
    "cypherQueryUsers = []\n",
    "for i in followers.values():\n",
    "    allUsers.update(i)\n",
    "\n",
    "for i in allUsers:\n",
    "    cypherQueryUsers.append(\"U_\"+str(i))"
   ]
  },
  {
   "cell_type": "markdown",
   "metadata": {},
   "source": [
    "### Generate Edges for the graph"
   ]
  },
  {
   "cell_type": "code",
   "execution_count": 9,
   "metadata": {},
   "outputs": [],
   "source": [
    "cypherQueryEdges = []\n",
    "for group, listOfUser  in followers.items():\n",
    "    for user in listOfUser:\n",
    "        cypherQueryEdges.append((\"U_\"+str(user),\"G_\"+str(group)))"
   ]
  },
  {
   "cell_type": "code",
   "execution_count": 1,
   "metadata": {},
   "outputs": [],
   "source": [
    "# !!!! This module doesn't work as we moved to GEPHI from Neo4J !!!!\n",
    "\n",
    "# with open(\"cypherQuery.txt\",\"w\") as queryDump:\n",
    "#     queryDump.writelines(cypherQueryGroups)\n",
    "#     queryDump.writelines(cypherQueryUsers)\n",
    "#     queryDump.write(\"CREATE \")\n",
    "#     queryDump.write(\",\\n \".join(cypherQueryEdges))"
   ]
  },
  {
   "cell_type": "markdown",
   "metadata": {},
   "source": [
    "### Populate NetworkX Graph"
   ]
  },
  {
   "cell_type": "code",
   "execution_count": 10,
   "metadata": {},
   "outputs": [
    {
     "name": "stdout",
     "output_type": "stream",
     "text": [
      "time -  0.07697701454162598\n"
     ]
    }
   ],
   "source": [
    "import networkx as nx\n",
    "import time\n",
    "\n",
    "st = time.time()\n",
    "graph = nx.DiGraph()\n",
    "\n",
    "for i in cypherQueryGroups:\n",
    "    graph.add_node(i, type = \"group\")\n",
    "### Generate Group/Center Nodes\n",
    "for i in cypherQueryUsers:\n",
    "    graph.add_node(i, type = \"user\")\n",
    "graph.add_edges_from(cypherQueryEdges)\n",
    "\n",
    "print(\"time - \", time.time() - st)"
   ]
  },
  {
   "cell_type": "code",
   "execution_count": null,
   "metadata": {},
   "outputs": [],
   "source": [
    "print(nx.info(graph))"
   ]
  },
  {
   "cell_type": "markdown",
   "metadata": {},
   "source": [
    "### Export NetworkX graph for importing into Gephi"
   ]
  },
  {
   "cell_type": "code",
   "execution_count": 13,
   "metadata": {
    "scrolled": true
   },
   "outputs": [
    {
     "name": "stdout",
     "output_type": "stream",
     "text": [
      "Name: \n",
      "Type: DiGraph\n",
      "Number of nodes: 10708\n",
      "Number of edges: 11000\n",
      "Average in degree:   1.0273\n",
      "Average out degree:   1.0273\n"
     ]
    }
   ],
   "source": [
    "nx.write_gexf(graph, \"gehphi-graph.gexf\")"
   ]
  }
 ],
 "metadata": {
  "kernelspec": {
   "display_name": "Python 3",
   "language": "python",
   "name": "python3"
  },
  "language_info": {
   "codemirror_mode": {
    "name": "ipython",
    "version": 3
   },
   "file_extension": ".py",
   "mimetype": "text/x-python",
   "name": "python",
   "nbconvert_exporter": "python",
   "pygments_lexer": "ipython3",
   "version": "3.7.3"
  }
 },
 "nbformat": 4,
 "nbformat_minor": 2
}
